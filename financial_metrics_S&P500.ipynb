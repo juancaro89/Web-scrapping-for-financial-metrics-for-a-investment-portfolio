{
 "cells": [
  {
   "cell_type": "markdown",
   "id": "a47975db",
   "metadata": {},
   "source": [
    "downolad the information from yahoo finance from specific ticker\n",
    "\n",
    "P/E ratio check,\n",
    "ROE check,\n",
    "BETA check,\n",
    "EPS check,\n",
    "PEG check."
   ]
  },
  {
   "cell_type": "code",
   "execution_count": 1,
   "id": "ddf230f3",
   "metadata": {},
   "outputs": [
    {
     "name": "stdout",
     "output_type": "stream",
     "text": [
      "{'zip': '94025', 'sector': 'Communication Services', 'longBusinessSummary': \"Meta Platforms, Inc. develops products that enable people to connect and share with friends and family through mobile devices, personal computers, virtual reality headsets, and in-home devices worldwide. It operates in two segments, Family of Apps and Facebook Reality Labs. The Family of Apps segment's products include Facebook, which enables people to connect, share, discover, and communicate with each other on mobile devices and personal computers; Instagram, a community for sharing photos, videos, and private messages; Messenger, a messaging application for people to connect with friends, family, groups, and businesses across platforms and devices; and WhatsApp, a messaging application that is used by people and businesses to communicate in a private way, as well as other services. The Facebook Reality Labs segment provides augmented and virtual reality related consumer hardware, software, and content that help people feel connected, anytime, and anywhere. The company was formerly known as Facebook, Inc. and changed its name to Meta Platforms, Inc. in October 2021. Meta Platforms, Inc. was founded in 2004 and is headquartered in Menlo Park, California.\", 'city': 'Menlo Park', 'phone': '650 543 4800', 'state': 'CA', 'country': 'United States', 'companyOfficers': [], 'website': 'https://investor.fb.com', 'maxAge': 1, 'address1': '1601 Willow Road', 'industry': 'Internet Content & Information', 'ebitdaMargins': 0.46401, 'profitMargins': 0.33383998, 'grossMargins': 0.80794, 'operatingCashflow': 57683001344, 'revenueGrowth': 0.199, 'operatingMargins': 0.39645, 'ebitda': 54720000000, 'targetLowPrice': 230, 'recommendationKey': 'buy', 'grossProfits': 95280000000, 'freeCashflow': 19772624896, 'targetMedianPrice': 350, 'currentPrice': 233.4213, 'earningsGrowth': -0.054, 'currentRatio': 3.154, 'returnOnAssets': 0.17965001, 'numberOfAnalystOpinions': 53, 'targetMeanPrice': 353.91, 'debtToEquity': 11.109, 'returnOnEquity': 0.31102, 'targetHighPrice': 466, 'totalCash': 47998001152, 'totalDebt': 13873000448, 'totalRevenue': 117929000960, 'totalCashPerShare': 17.359, 'financialCurrency': 'USD', 'revenuePerShare': 41.893, 'quickRatio': 2.935, 'recommendationMean': 1.9, 'exchange': 'NMS', 'shortName': 'Meta Platforms, Inc.', 'longName': 'Meta Platforms, Inc.', 'exchangeTimezoneName': 'America/New_York', 'exchangeTimezoneShortName': 'EST', 'isEsgPopulated': False, 'gmtOffSetMilliseconds': '-18000000', 'quoteType': 'EQUITY', 'symbol': 'FB', 'messageBoardId': 'finmb_20765463', 'market': 'us_market', 'annualHoldingsTurnover': None, 'enterpriseToRevenue': 5.285, 'beta3Year': None, 'enterpriseToEbitda': 11.39, '52WeekChange': -0.11316675, 'morningStarRiskRating': None, 'forwardEps': 15.84, 'revenueQuarterlyGrowth': None, 'sharesOutstanding': 2366279936, 'fundInceptionDate': None, 'annualReportExpenseRatio': None, 'totalAssets': None, 'bookValue': 45.164, 'sharesShort': 24113812, 'sharesPercentSharesOut': 0.0087, 'fundFamily': None, 'lastFiscalYearEnd': 1640908800, 'heldPercentInstitutions': 0.80121005, 'netIncomeToCommon': 39369998336, 'trailingEps': 13.77, 'lastDividendValue': None, 'SandP52WeekChange': 0.15195155, 'priceToBook': 5.168304, 'heldPercentInsiders': 0.00597, 'nextFiscalYearEnd': 1703980800, 'yield': None, 'mostRecentQuarter': 1640908800, 'shortRatio': 1.32, 'sharesShortPreviousMonthDate': 1639526400, 'floatShares': 2336563250, 'beta': None, 'enterpriseValue': 623281373184, 'priceHint': 2, 'threeYearAverageReturn': None, 'lastSplitDate': None, 'lastSplitFactor': None, 'legalType': None, 'lastDividendDate': None, 'morningStarOverallRating': None, 'earningsQuarterlyGrowth': -0.083, 'priceToSalesTrailing12Months': 7.480035, 'dateShortInterest': 1642118400, 'pegRatio': 0.83, 'ytdReturn': None, 'forwardPE': 14.736193, 'lastCapGain': None, 'shortPercentOfFloat': 0.010199999, 'sharesShortPriorMonth': 27946660, 'impliedSharesOutstanding': 2781760000, 'category': None, 'fiveYearAverageReturn': None, 'previousClose': 237.76, 'regularMarketOpen': 234.97, 'twoHundredDayAverage': 337.40125, 'trailingAnnualDividendYield': 0, 'payoutRatio': 0, 'volume24Hr': None, 'regularMarketDayHigh': 236.45, 'navPrice': None, 'averageDailyVolume10Day': 45041620, 'regularMarketPreviousClose': 237.76, 'fiftyDayAverage': 324.4086, 'trailingAnnualDividendRate': 0, 'open': 234.97, 'toCurrency': None, 'averageVolume10days': 45041620, 'expireDate': None, 'algorithm': None, 'dividendRate': None, 'exDividendDate': None, 'circulatingSupply': None, 'startDate': None, 'regularMarketDayLow': 230.5, 'currency': 'USD', 'trailingPE': 16.951437, 'regularMarketVolume': 23592577, 'lastMarket': None, 'maxSupply': None, 'openInterest': None, 'marketCap': 882113052672, 'volumeAllCurrencies': None, 'strikePrice': None, 'averageVolume': 23666795, 'dayLow': 230.5, 'ask': 234.17, 'askSize': 3100, 'volume': 23592577, 'fiftyTwoWeekHigh': 384.33, 'fromCurrency': None, 'fiveYearAvgDividendYield': None, 'fiftyTwoWeekLow': 230.5, 'bid': 234.31, 'tradeable': False, 'dividendYield': None, 'bidSize': 900, 'dayHigh': 236.45, 'regularMarketPrice': 233.4213, 'preMarketPrice': 234.96, 'logo_url': 'https://logo.clearbit.com/investor.fb.com', 'trailingPegRatio': 0.6666}\n"
     ]
    }
   ],
   "source": [
    "import yfinance as yahooFinance\n",
    "import pandas as pd \n",
    "# Here We are getting Facebook financial information\n",
    "# We need to pass FB as argument for that\n",
    "GetFacebookInformation = yahooFinance.Ticker(\"FB\")\n",
    " \n",
    "# whole python dictionary is printed here\n",
    "print(GetFacebookInformation.info)"
   ]
  },
  {
   "cell_type": "markdown",
   "id": "d20c9b9e",
   "metadata": {},
   "source": [
    "tickers_to_look =[\"FB\",\"AMZN\",\"AAPL\", \"MSFT\", \"GOOGL\", \"BRK.B\", \"TSLA\", \"NVDA\", \"JPM\"]\n",
    "The previous ticker code are the choosen one to prove the code\n"
   ]
  },
  {
   "cell_type": "code",
   "execution_count": 56,
   "id": "748b872a",
   "metadata": {},
   "outputs": [
    {
     "name": "stdout",
     "output_type": "stream",
     "text": [
      "{'ticker': ['FB', 'AMZN', 'AAPL', 'MSFT', 'GOOGL', 'TSLA', 'NVDA', 'JPM'], 'sector': ['Communication Services', 'Consumer Cyclical', 'Technology', 'Technology', 'Communication Services', 'Consumer Cyclical', 'Technology', 'Financial Services'], 'PE Ratio': [17.014456, 54.343723, 30.819963, 33.700638, 27.569, 291.032, 73.8452, 9.406034], 'ROE': [0.32103002, 0.25832, 1.47443, 0.49303, 0.30872, 0.15641, 0.41939998, 0.16856001], 'Beta': [1.282818, 1.126233, 1.203116, 0.872727, 1.068051, 2.037922, 1.366753, 1.115053], 'EPS': [13.974, 51.099, 5.61, 8.939, 103.805, 3.062, 3.243, 15.809], 'PEG': [1.13, 2.27, 2, 2.16, 1.27, 2.52, 1.71, 1.06]}\n"
     ]
    }
   ],
   "source": [
    "metrics_dict = {\n",
    "    \"ticker\": [] ,\n",
    "    \"sector\": [],\n",
    "    \"PE Ratio\": [],\n",
    "    \"ROE\": [], \n",
    "    \"Beta\": [],\n",
    "    \"EPS\": [], \n",
    "    \"PEG\": []\n",
    "}\n",
    "\n",
    "\n",
    "#Facebook now META metric information    \n",
    "metrics_dict[\"ticker\"].append(yahooFinance.Ticker(\"FB\").info['symbol'])\n",
    "metrics_dict[\"sector\"].append(yahooFinance.Ticker(\"FB\").info['sector'])\n",
    "metrics_dict[\"PE Ratio\"].append(yahooFinance.Ticker(\"FB\").info['trailingPE'])\n",
    "metrics_dict[\"ROE\"].append(yahooFinance.Ticker(\"FB\").info['returnOnEquity'])\n",
    "metrics_dict[\"Beta\"].append(yahooFinance.Ticker(\"FB\").info['beta'])\n",
    "metrics_dict[\"EPS\"].append(yahooFinance.Ticker(\"FB\").info['trailingEps'])\n",
    "metrics_dict[\"PEG\"].append(yahooFinance.Ticker(\"FB\").info['pegRatio'])\n",
    "\n",
    "#AMAZON metric information    \n",
    "metrics_dict[\"ticker\"].append(yahooFinance.Ticker(\"AMZN\").info['symbol'])\n",
    "metrics_dict[\"sector\"].append(yahooFinance.Ticker(\"AMZN\").info['sector'])\n",
    "metrics_dict[\"PE Ratio\"].append(yahooFinance.Ticker(\"AMZN\").info['trailingPE'])\n",
    "metrics_dict[\"ROE\"].append(yahooFinance.Ticker(\"AMZN\").info['returnOnEquity'])\n",
    "metrics_dict[\"Beta\"].append(yahooFinance.Ticker(\"AMZN\").info['beta'])\n",
    "metrics_dict[\"EPS\"].append(yahooFinance.Ticker(\"AMZN\").info['trailingEps'])\n",
    "metrics_dict[\"PEG\"].append(yahooFinance.Ticker(\"AMZN\").info['pegRatio'])\n",
    "\n",
    "#Apple metric information    \n",
    "metrics_dict[\"ticker\"].append(yahooFinance.Ticker(\"AAPL\").info['symbol'])\n",
    "metrics_dict[\"sector\"].append(yahooFinance.Ticker(\"AAPL\").info['sector'])\n",
    "metrics_dict[\"PE Ratio\"].append(yahooFinance.Ticker(\"AAPL\").info['trailingPE'])\n",
    "metrics_dict[\"ROE\"].append(yahooFinance.Ticker(\"AAPL\").info['returnOnEquity'])\n",
    "metrics_dict[\"Beta\"].append(yahooFinance.Ticker(\"AAPL\").info['beta'])\n",
    "metrics_dict[\"EPS\"].append(yahooFinance.Ticker(\"AAPL\").info['trailingEps'])\n",
    "metrics_dict[\"PEG\"].append(yahooFinance.Ticker(\"AAPL\").info['pegRatio'])\n",
    "\n",
    "#Microsoft metric information    \n",
    "metrics_dict[\"ticker\"].append(yahooFinance.Ticker(\"MSFT\").info['symbol'])\n",
    "metrics_dict[\"sector\"].append(yahooFinance.Ticker(\"MSFT\").info['sector'])\n",
    "metrics_dict[\"PE Ratio\"].append(yahooFinance.Ticker(\"MSFT\").info['trailingPE'])\n",
    "metrics_dict[\"ROE\"].append(yahooFinance.Ticker(\"MSFT\").info['returnOnEquity'])\n",
    "metrics_dict[\"Beta\"].append(yahooFinance.Ticker(\"MSFT\").info['beta'])\n",
    "metrics_dict[\"EPS\"].append(yahooFinance.Ticker(\"MSFT\").info['trailingEps'])\n",
    "metrics_dict[\"PEG\"].append(yahooFinance.Ticker(\"MSFT\").info['pegRatio'])\n",
    "\n",
    "#Google metric information    \n",
    "metrics_dict[\"ticker\"].append(yahooFinance.Ticker(\"GOOGL\").info['symbol'])\n",
    "metrics_dict[\"sector\"].append(yahooFinance.Ticker(\"GOOGL\").info['sector'])\n",
    "metrics_dict[\"PE Ratio\"].append(yahooFinance.Ticker(\"GOOGL\").info['trailingPE'])\n",
    "metrics_dict[\"ROE\"].append(yahooFinance.Ticker(\"GOOGL\").info['returnOnEquity'])\n",
    "metrics_dict[\"Beta\"].append(yahooFinance.Ticker(\"GOOGL\").info['beta'])\n",
    "metrics_dict[\"EPS\"].append(yahooFinance.Ticker(\"GOOGL\").info['trailingEps'])\n",
    "metrics_dict[\"PEG\"].append(yahooFinance.Ticker(\"GOOGL\").info['pegRatio'])\n",
    "\n",
    "#Berkshire Hathaway metric information    \n",
    "#metrics_dict[\"ticker\"].append(yahooFinance.Ticker(\"BRK.B\").info['symbol'])\n",
    "#metrics_dict[\"sector\"].append(yahooFinance.Ticker(\"BRK.B\").info['sector'])\n",
    "#metrics_dict[\"PE Ratio\"].append(yahooFinance.Ticker(\"BRK.B\").info['trailingPE'])\n",
    "#metrics_dict[\"ROE\"].append(yahooFinance.Ticker(\"BRK.B\").info['returnOnEquity'])\n",
    "#metrics_dict[\"Beta\"].append(yahooFinance.Ticker(\"BRK.B\").info['beta'])\n",
    "#metrics_dict[\"EPS\"].append(yahooFinance.Ticker(\"BRK.B\").info['trailingEps'])\n",
    "#metrics_dict[\"PEG\"].append(yahooFinance.Ticker(\"BRK.B\").info['pegRatio'])\n",
    "\n",
    "#Tesla metric information    \n",
    "metrics_dict[\"ticker\"].append(yahooFinance.Ticker(\"TSLA\").info['symbol'])\n",
    "metrics_dict[\"sector\"].append(yahooFinance.Ticker(\"TSLA\").info['sector'])\n",
    "metrics_dict[\"PE Ratio\"].append(yahooFinance.Ticker(\"TSLA\").info['trailingPE'])\n",
    "metrics_dict[\"ROE\"].append(yahooFinance.Ticker(\"TSLA\").info['returnOnEquity'])\n",
    "metrics_dict[\"Beta\"].append(yahooFinance.Ticker(\"TSLA\").info['beta'])\n",
    "metrics_dict[\"EPS\"].append(yahooFinance.Ticker(\"TSLA\").info['trailingEps'])\n",
    "metrics_dict[\"PEG\"].append(yahooFinance.Ticker(\"TSLA\").info['pegRatio'])\n",
    "\n",
    "#NVIDIA metric information    \n",
    "metrics_dict[\"ticker\"].append(yahooFinance.Ticker(\"NVDA\").info['symbol'])\n",
    "metrics_dict[\"sector\"].append(yahooFinance.Ticker(\"NVDA\").info['sector'])\n",
    "metrics_dict[\"PE Ratio\"].append(yahooFinance.Ticker(\"NVDA\").info['trailingPE'])\n",
    "metrics_dict[\"ROE\"].append(yahooFinance.Ticker(\"NVDA\").info['returnOnEquity'])\n",
    "metrics_dict[\"Beta\"].append(yahooFinance.Ticker(\"NVDA\").info['beta'])\n",
    "metrics_dict[\"EPS\"].append(yahooFinance.Ticker(\"NVDA\").info['trailingEps'])\n",
    "metrics_dict[\"PEG\"].append(yahooFinance.Ticker(\"NVDA\").info['pegRatio'])\n",
    "\n",
    "#JP. Morgan metric information    \n",
    "metrics_dict[\"ticker\"].append(yahooFinance.Ticker(\"JPM\").info['symbol'])\n",
    "metrics_dict[\"sector\"].append(yahooFinance.Ticker(\"JPM\").info['sector'])\n",
    "metrics_dict[\"PE Ratio\"].append(yahooFinance.Ticker(\"JPM\").info['trailingPE'])\n",
    "metrics_dict[\"ROE\"].append(yahooFinance.Ticker(\"JPM\").info['returnOnEquity'])\n",
    "metrics_dict[\"Beta\"].append(yahooFinance.Ticker(\"JPM\").info['beta'])\n",
    "metrics_dict[\"EPS\"].append(yahooFinance.Ticker(\"JPM\").info['trailingEps'])\n",
    "metrics_dict[\"PEG\"].append(yahooFinance.Ticker(\"JPM\").info['pegRatio'])\n",
    "\n",
    "print(metrics_dict)"
   ]
  },
  {
   "cell_type": "code",
   "execution_count": 61,
   "id": "90e2af57",
   "metadata": {},
   "outputs": [
    {
     "name": "stdout",
     "output_type": "stream",
     "text": [
      "  ticker                  sector  PE Ratio   ROE  Beta     EPS   PEG Score\n",
      "0     FB  Communication Services     17.01  0.32  1.28   13.97  1.13   NaN\n",
      "1   AMZN       Consumer Cyclical     54.34  0.26  1.13   51.10  2.27   NaN\n",
      "2   AAPL              Technology     30.82  1.47  1.20    5.61  2.00   NaN\n",
      "3   MSFT              Technology     33.70  0.49  0.87    8.94  2.16   NaN\n",
      "4  GOOGL  Communication Services     27.57  0.31  1.07  103.80  1.27   NaN\n",
      "5   TSLA       Consumer Cyclical    291.03  0.16  2.04    3.06  2.52   NaN\n",
      "6   NVDA              Technology     73.85  0.42  1.37    3.24  1.71   NaN\n",
      "7    JPM      Financial Services      9.41  0.17  1.12   15.81  1.06   NaN\n"
     ]
    }
   ],
   "source": [
    "df_metrics_dict = pd.DataFrame(metrics_dict, columns=[\"ticker\",\"sector\",\"PE Ratio\",\"ROE\",\"Beta\",\"EPS\",\"PEG\", \"Score\"])\n",
    "\n",
    "df_metrics_dict[\"PE Ratio\"]=round(df_metrics_dict[\"PE Ratio\"].fillna(0),2)\n",
    "df_metrics_dict[\"ROE\"]=round(df_metrics_dict[\"ROE\"].fillna(0),2)\n",
    "df_metrics_dict[\"Beta\"]=round(df_metrics_dict[\"Beta\"].fillna(0),2)\n",
    "df_metrics_dict[\"EPS\"]=round(df_metrics_dict[\"EPS\"].fillna(0),2)\n",
    "df_metrics_dict[\"PEG\"]=round(df_metrics_dict[\"PEG\"].fillna(0),2)\n",
    "print(df_metrics_dict)"
   ]
  },
  {
   "cell_type": "code",
   "execution_count": 62,
   "id": "1ec7b5bb",
   "metadata": {},
   "outputs": [],
   "source": [
    "df_metrics_dict[\"Score\"]= (round(df_metrics_dict[\"PE Ratio\"]*0.42,2) + df_metrics_dict[\"ROE\"]*0.2+ df_metrics_dict[\"Beta\"]*0.13+ df_metrics_dict[\"EPS\"]*0.15+df_metrics_dict[\"PEG\"]*0.1)"
   ]
  },
  {
   "cell_type": "code",
   "execution_count": 63,
   "id": "658649e2",
   "metadata": {},
   "outputs": [
    {
     "name": "stdout",
     "output_type": "stream",
     "text": [
      "<class 'pandas.core.frame.DataFrame'>\n",
      "RangeIndex: 8 entries, 0 to 7\n",
      "Data columns (total 8 columns):\n",
      " #   Column    Non-Null Count  Dtype  \n",
      "---  ------    --------------  -----  \n",
      " 0   ticker    8 non-null      object \n",
      " 1   sector    8 non-null      object \n",
      " 2   PE Ratio  8 non-null      float64\n",
      " 3   ROE       8 non-null      float64\n",
      " 4   Beta      8 non-null      float64\n",
      " 5   EPS       8 non-null      float64\n",
      " 6   PEG       8 non-null      float64\n",
      " 7   Score     8 non-null      float64\n",
      "dtypes: float64(6), object(2)\n",
      "memory usage: 640.0+ bytes\n",
      "  ticker                  sector  PE Ratio   ROE  Beta     EPS   PEG     Score\n",
      "0     FB  Communication Services     17.01  0.32  1.28   13.97  1.13    9.5789\n",
      "1   AMZN       Consumer Cyclical     54.34  0.26  1.13   51.10  2.27   30.9109\n",
      "2   AAPL              Technology     30.82  1.47  1.20    5.61  2.00   14.4315\n",
      "3   MSFT              Technology     33.70  0.49  0.87    8.94  2.16   15.9181\n",
      "4  GOOGL  Communication Services     27.57  0.31  1.07  103.80  1.27   27.4781\n",
      "5   TSLA       Consumer Cyclical    291.03  0.16  2.04    3.06  2.52  123.2382\n",
      "6   NVDA              Technology     73.85  0.42  1.37    3.24  1.71   31.9391\n",
      "7    JPM      Financial Services      9.41  0.17  1.12   15.81  1.06    6.6071\n"
     ]
    }
   ],
   "source": [
    "df_metrics_dict.info()\n",
    "print(df_metrics_dict)"
   ]
  },
  {
   "cell_type": "code",
   "execution_count": 65,
   "id": "d10e2b8a",
   "metadata": {},
   "outputs": [
    {
     "data": {
      "text/html": [
       "<div>\n",
       "<style scoped>\n",
       "    .dataframe tbody tr th:only-of-type {\n",
       "        vertical-align: middle;\n",
       "    }\n",
       "\n",
       "    .dataframe tbody tr th {\n",
       "        vertical-align: top;\n",
       "    }\n",
       "\n",
       "    .dataframe thead th {\n",
       "        text-align: right;\n",
       "    }\n",
       "</style>\n",
       "<table border=\"1\" class=\"dataframe\">\n",
       "  <thead>\n",
       "    <tr style=\"text-align: right;\">\n",
       "      <th></th>\n",
       "      <th>ticker</th>\n",
       "      <th>sector</th>\n",
       "      <th>PE Ratio</th>\n",
       "      <th>ROE</th>\n",
       "      <th>Beta</th>\n",
       "      <th>EPS</th>\n",
       "      <th>PEG</th>\n",
       "      <th>Score</th>\n",
       "    </tr>\n",
       "  </thead>\n",
       "  <tbody>\n",
       "    <tr>\n",
       "      <th>5</th>\n",
       "      <td>TSLA</td>\n",
       "      <td>Consumer Cyclical</td>\n",
       "      <td>291.03</td>\n",
       "      <td>0.16</td>\n",
       "      <td>2.04</td>\n",
       "      <td>3.06</td>\n",
       "      <td>2.52</td>\n",
       "      <td>123.2382</td>\n",
       "    </tr>\n",
       "    <tr>\n",
       "      <th>6</th>\n",
       "      <td>NVDA</td>\n",
       "      <td>Technology</td>\n",
       "      <td>73.85</td>\n",
       "      <td>0.42</td>\n",
       "      <td>1.37</td>\n",
       "      <td>3.24</td>\n",
       "      <td>1.71</td>\n",
       "      <td>31.9391</td>\n",
       "    </tr>\n",
       "    <tr>\n",
       "      <th>1</th>\n",
       "      <td>AMZN</td>\n",
       "      <td>Consumer Cyclical</td>\n",
       "      <td>54.34</td>\n",
       "      <td>0.26</td>\n",
       "      <td>1.13</td>\n",
       "      <td>51.10</td>\n",
       "      <td>2.27</td>\n",
       "      <td>30.9109</td>\n",
       "    </tr>\n",
       "    <tr>\n",
       "      <th>4</th>\n",
       "      <td>GOOGL</td>\n",
       "      <td>Communication Services</td>\n",
       "      <td>27.57</td>\n",
       "      <td>0.31</td>\n",
       "      <td>1.07</td>\n",
       "      <td>103.80</td>\n",
       "      <td>1.27</td>\n",
       "      <td>27.4781</td>\n",
       "    </tr>\n",
       "    <tr>\n",
       "      <th>3</th>\n",
       "      <td>MSFT</td>\n",
       "      <td>Technology</td>\n",
       "      <td>33.70</td>\n",
       "      <td>0.49</td>\n",
       "      <td>0.87</td>\n",
       "      <td>8.94</td>\n",
       "      <td>2.16</td>\n",
       "      <td>15.9181</td>\n",
       "    </tr>\n",
       "    <tr>\n",
       "      <th>2</th>\n",
       "      <td>AAPL</td>\n",
       "      <td>Technology</td>\n",
       "      <td>30.82</td>\n",
       "      <td>1.47</td>\n",
       "      <td>1.20</td>\n",
       "      <td>5.61</td>\n",
       "      <td>2.00</td>\n",
       "      <td>14.4315</td>\n",
       "    </tr>\n",
       "    <tr>\n",
       "      <th>0</th>\n",
       "      <td>FB</td>\n",
       "      <td>Communication Services</td>\n",
       "      <td>17.01</td>\n",
       "      <td>0.32</td>\n",
       "      <td>1.28</td>\n",
       "      <td>13.97</td>\n",
       "      <td>1.13</td>\n",
       "      <td>9.5789</td>\n",
       "    </tr>\n",
       "    <tr>\n",
       "      <th>7</th>\n",
       "      <td>JPM</td>\n",
       "      <td>Financial Services</td>\n",
       "      <td>9.41</td>\n",
       "      <td>0.17</td>\n",
       "      <td>1.12</td>\n",
       "      <td>15.81</td>\n",
       "      <td>1.06</td>\n",
       "      <td>6.6071</td>\n",
       "    </tr>\n",
       "  </tbody>\n",
       "</table>\n",
       "</div>"
      ],
      "text/plain": [
       "  ticker                  sector  PE Ratio   ROE  Beta     EPS   PEG     Score\n",
       "5   TSLA       Consumer Cyclical    291.03  0.16  2.04    3.06  2.52  123.2382\n",
       "6   NVDA              Technology     73.85  0.42  1.37    3.24  1.71   31.9391\n",
       "1   AMZN       Consumer Cyclical     54.34  0.26  1.13   51.10  2.27   30.9109\n",
       "4  GOOGL  Communication Services     27.57  0.31  1.07  103.80  1.27   27.4781\n",
       "3   MSFT              Technology     33.70  0.49  0.87    8.94  2.16   15.9181\n",
       "2   AAPL              Technology     30.82  1.47  1.20    5.61  2.00   14.4315\n",
       "0     FB  Communication Services     17.01  0.32  1.28   13.97  1.13    9.5789\n",
       "7    JPM      Financial Services      9.41  0.17  1.12   15.81  1.06    6.6071"
      ]
     },
     "execution_count": 65,
     "metadata": {},
     "output_type": "execute_result"
    }
   ],
   "source": [
    "final_df_portfolio = df_metrics_dict.sort_values(by = [\"Score\"],ascending=False )\n",
    "final_df_portfolio"
   ]
  }
 ],
 "metadata": {
  "kernelspec": {
   "display_name": "Python 3",
   "language": "python",
   "name": "python3"
  },
  "language_info": {
   "codemirror_mode": {
    "name": "ipython",
    "version": 3
   },
   "file_extension": ".py",
   "mimetype": "text/x-python",
   "name": "python",
   "nbconvert_exporter": "python",
   "pygments_lexer": "ipython3",
   "version": "3.8.8"
  },
  "toc": {
   "base_numbering": 1,
   "nav_menu": {},
   "number_sections": true,
   "sideBar": true,
   "skip_h1_title": false,
   "title_cell": "Table of Contents",
   "title_sidebar": "Contents",
   "toc_cell": false,
   "toc_position": {},
   "toc_section_display": true,
   "toc_window_display": false
  },
  "varInspector": {
   "cols": {
    "lenName": 16,
    "lenType": 16,
    "lenVar": 40
   },
   "kernels_config": {
    "python": {
     "delete_cmd_postfix": "",
     "delete_cmd_prefix": "del ",
     "library": "var_list.py",
     "varRefreshCmd": "print(var_dic_list())"
    },
    "r": {
     "delete_cmd_postfix": ") ",
     "delete_cmd_prefix": "rm(",
     "library": "var_list.r",
     "varRefreshCmd": "cat(var_dic_list()) "
    }
   },
   "types_to_exclude": [
    "module",
    "function",
    "builtin_function_or_method",
    "instance",
    "_Feature"
   ],
   "window_display": false
  }
 },
 "nbformat": 4,
 "nbformat_minor": 5
}
